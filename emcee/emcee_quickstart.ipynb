{
 "cells": [
  {
   "cell_type": "markdown",
   "id": "a074c801",
   "metadata": {},
   "source": [
    "# Echantillonnage d'une gaussienne"
   ]
  },
  {
   "cell_type": "code",
   "execution_count": 1,
   "id": "7c30e7df",
   "metadata": {},
   "outputs": [],
   "source": [
    "import emcee\n",
    "import numpy as np"
   ]
  },
  {
   "cell_type": "code",
   "execution_count": 2,
   "id": "16d5fbe6",
   "metadata": {},
   "outputs": [],
   "source": [
    "def compute_log_prob(x):\n",
    "    return -0.5 * np.sum(x ** 2)"
   ]
  },
  {
   "cell_type": "code",
   "execution_count": 3,
   "id": "6fd3695b",
   "metadata": {},
   "outputs": [],
   "source": [
    "number_of_dimensions = 1\n",
    "number_of_walkers = 10\n",
    "initial_states = np.random.randn(number_of_walkers, number_of_dimensions)"
   ]
  },
  {
   "cell_type": "code",
   "execution_count": 4,
   "id": "be7733f5",
   "metadata": {},
   "outputs": [
    {
     "name": "stdout",
     "output_type": "stream",
     "text": [
      "the initial x state are [[-0.29460766]\n",
      " [-1.28012004]\n",
      " [ 1.44928336]\n",
      " [-1.66208962]\n",
      " [ 0.59542849]\n",
      " [-0.78784111]\n",
      " [ 0.84575973]\n",
      " [ 0.10918051]\n",
      " [ 0.73801078]\n",
      " [ 0.91551509]]\n"
     ]
    }
   ],
   "source": [
    "print(f'the initial x state are {initial_states}')"
   ]
  },
  {
   "cell_type": "code",
   "execution_count": 5,
   "id": "d7624838",
   "metadata": {},
   "outputs": [
    {
     "data": {
      "text/plain": [
       "State([[ 0.57991487]\n",
       " [ 1.50853131]\n",
       " [ 0.44050281]\n",
       " [-0.74395536]\n",
       " [ 0.39037511]\n",
       " [-0.60015711]\n",
       " [-0.22111905]\n",
       " [-0.54328327]\n",
       " [ 0.46317801]\n",
       " [-0.36969232]], log_prob=[-0.16815063 -1.13783335 -0.09702136 -0.27673479 -0.07619636 -0.18009428\n",
       " -0.02444682 -0.14757835 -0.10726693 -0.0683362 ], blobs=None, random_state=('MT19937', array([3381774356, 2271791565,  626313387, 4132302366, 3205462367,\n",
       "        301592121, 3037494220,  389070839,  445373254,  335684441,\n",
       "       4099663227, 1635465272, 2475406094, 3753220317, 1514821854,\n",
       "       3714035259, 3116680571,  275612273, 2214599477, 2807632589,\n",
       "       1930381988,  400102892, 1673940181, 1638196098, 2606967478,\n",
       "        201992314, 3400123110, 1284521065, 3368305942, 2997877855,\n",
       "       2698284731,  802308297,  830655974,  437893741, 3250084498,\n",
       "       1124341022, 3204422857,  535550298, 3361301429, 2677157730,\n",
       "        364448590,  746237406, 1493352249, 3463788184, 2363145243,\n",
       "       3125478221, 4097042218, 1085597354,  260014450, 2330740207,\n",
       "        163847869, 3458532101, 2376452342, 2358287020,   94683996,\n",
       "       1932599274,  845394907,  824494658,  218138182, 1836109160,\n",
       "        370971797, 1235796336, 3587596046, 4059868099, 1156619940,\n",
       "       3527535981,   64453800, 1509729459,  991673061, 3902253742,\n",
       "       2188647387, 1555680451, 4202394956, 3733309824, 3596257755,\n",
       "       1966401357,  728533724,   83688901, 2163715609, 3509933225,\n",
       "        234244030, 2053782052, 3099489877, 3130141397, 3770676685,\n",
       "       1934070586, 3729841890, 2398081011, 3648011664,  130778572,\n",
       "        923870132,  399203393, 1944699910, 3477790954, 2374028168,\n",
       "       2874768722, 1152533708,  474789911,  782342227,  928319661,\n",
       "        995493791,   38626379, 4240790308,  204082327, 1969851751,\n",
       "       1402905441, 3386581858, 4010655417, 1267943506, 4092351290,\n",
       "       1351246393, 3375375453,  188349698, 3304786123, 3523992409,\n",
       "       1844823383, 3535478005, 1579941155, 1685942088,  163885938,\n",
       "       3948605090, 2554605931, 3583169679, 1858355336, 4134966121,\n",
       "         65731280, 2659851487, 2949786247, 3308284710,  818291769,\n",
       "       3272201783, 3939777619, 2452037044, 1566381195, 2209146747,\n",
       "       3610234482, 2251670224, 3114863561, 1889035590, 3042736075,\n",
       "       3363884383, 1199571968, 3595206793, 2713743757, 1076888803,\n",
       "        715581145,  171246606, 3544231916,  488661459,  470924397,\n",
       "        190735795, 2403070731, 1276011093,  739663968,  152150059,\n",
       "       2473915298, 2780941266, 4154446006, 1417302260, 2423770261,\n",
       "       2369668511, 1535457636, 3256232079, 2571920588, 2381490290,\n",
       "       3289946635, 2482220415, 2339909843,  765106959, 2966470614,\n",
       "       2966936378, 3615615427, 3331744724, 4156739371,  337784182,\n",
       "       3805166594, 1739690546, 2128312842,  227863475, 2469028713,\n",
       "        720004824, 2691292928,  621929822, 2935297949, 1141894612,\n",
       "        127649729, 1679301687, 1203587602,   38648507, 1867314670,\n",
       "        846090261, 4167506711,  574275334, 2299566109,   81217889,\n",
       "       4276755085, 3867863213, 2561179927, 4067454392, 1452709104,\n",
       "       2831390356, 3685218290, 1732914197,  945983647,  779946137,\n",
       "       1804483204, 3714283264, 1623336125, 1305909245, 1451637955,\n",
       "       2130777800,  554037530, 1056097172, 3355816871, 2800140156,\n",
       "        757964481, 2399304563, 4024008287, 1985478361, 3135238387,\n",
       "       4064453790, 1894928328, 2333309229, 1197382572, 2819436142,\n",
       "       2217750909, 1422318899, 1408029684, 3108896940,  711517127,\n",
       "       3263222921, 2982658110,  449292399, 2587216072,  817432412,\n",
       "       4095474326,  911671134, 1167970866, 1172162605, 3114883240,\n",
       "       4130956955, 1129038160, 1987493996, 1853640473, 1539199862,\n",
       "       2040659401, 1053619286,  444827678,  985321523,  134683198,\n",
       "       1723345778, 3719313365,  430558619, 2879895830, 2509458034,\n",
       "       3753559425, 2895203718, 2584144646, 3226701217,  197741245,\n",
       "       1755200509, 1006521905,  905680833, 2417894482, 2045795824,\n",
       "       2824846501,  689092163,  816032911, 2433998937, 1889768070,\n",
       "       2560193623,  947024204, 2150469719, 3484943412, 3629840775,\n",
       "       1597722263,    9325389, 2856932964, 2568875438, 2003464641,\n",
       "       4205680330,  921656725, 2960017510, 3005361460, 4208198401,\n",
       "       2704010891, 1552563915,  394862160, 4120400224, 1652718683,\n",
       "       3764389642, 2558219411, 2473631327,  191045332, 3344099782,\n",
       "       2521023402, 3218800993,  979240719, 2437362167,  657479230,\n",
       "       2628131760, 3961963832, 1752587905,  579845624,  573652066,\n",
       "        390078408, 2861952746, 3466716011, 3156870135, 2837328541,\n",
       "       3057823087, 3970476971, 3464067120, 4179383242,  364149758,\n",
       "       3032286243, 3436586550, 3550053650, 1874084133,  983314599,\n",
       "       3830044328, 2753684534,  762006860,  860974541, 4217717315,\n",
       "       4023866477,  193472437, 3347538183, 2285892785, 1223394806,\n",
       "       2319718039, 2886493971, 3662772833, 3801376662,   88495492,\n",
       "       1365514833,   11657163, 3704989708,  173946549, 2123147407,\n",
       "       3834684464, 4282306123,  239971485,  965694333,  479771864,\n",
       "       3067801038, 1720668318, 2782638404, 2709730742,  201209991,\n",
       "        533582200, 3053624877,  421811405, 2926755367,  781708861,\n",
       "       4141126364, 3896594997,  647287823,  866463947, 1432521800,\n",
       "        303465045,  547136484,  775763503, 2317846956,   44403452,\n",
       "        522091527, 2557715584, 3720776384,  449293243, 3400084684,\n",
       "       2792560394, 4237079830, 2379445559, 2367452624,  264173080,\n",
       "       2615470700, 3980874274,  592385877, 1275046674, 2077117218,\n",
       "       1397408291, 3841279382, 4141842139,  612261333,  905340400,\n",
       "       3308747808, 3618856353,  373394321, 1238469848,  215474688,\n",
       "         15647150,  545711399, 3322905731, 4037789930, 1934312910,\n",
       "        850832382,  260506506, 3245670286, 3693007889, 1492464162,\n",
       "       3660221295,  300085631, 2568408157,  493981895, 3115595670,\n",
       "        872218530, 1958309914, 2519095150, 3067047829, 2689286959,\n",
       "       1261931245,  122011701, 2505698972, 2907917733, 3582363754,\n",
       "       3000578660, 1810043997, 1337122964, 2217649289, 2054686806,\n",
       "       4220341513,  510611088, 4041292508, 2137433123, 1371037948,\n",
       "       4290585986, 1634486453, 1031594742,  548271235, 1124781680,\n",
       "       2583995610, 4220019868, 4273740424, 4219550415,  741639701,\n",
       "       1028384022, 3983738227, 2055395733,   37880751, 3581184124,\n",
       "       3481366083, 2854606112, 3740921065, 2936952499, 3371141686,\n",
       "       3171719767,   20326075,  397320253, 1541388009,  786102497,\n",
       "       2539172279, 2556346890,  342425519, 3558036483,  665145596,\n",
       "        492191738,  142987713, 1047827904, 3331348607, 3527866562,\n",
       "       3958725201, 3540477178, 2393007733,  175407386, 3593512252,\n",
       "       3873249078, 2699525690, 2198583383, 1196453010, 1325207842,\n",
       "        215824361, 2443596541,  405329332, 1599191270, 2772022424,\n",
       "       2611224364, 3541120248, 3624050337, 3077436955, 3437716049,\n",
       "       1085208877, 1769324103, 3261161509, 4200275858, 3810112560,\n",
       "       1335057269, 1219600141, 2634089172, 1534635531, 2079884379,\n",
       "        918259114, 3534463352, 3269757320, 1241706624, 4030255263,\n",
       "         69390560,  888619268,   93592766, 2498605446,  385905937,\n",
       "       3616234920, 1886012100,   26310496, 1311728552,  632968639,\n",
       "        622183778, 3534834718, 1143709181, 1460587196, 2870705536,\n",
       "        271655751, 1932542308, 1614942141, 4131321238,  966631046,\n",
       "       2666989436, 3411888702, 3810146852,  687451383, 1783006402,\n",
       "       3320708234, 1958907750,  557555880, 2602375493, 2145254923,\n",
       "       2371508415,  838703505, 3356092950, 4065034604, 2232697673,\n",
       "       3156691749, 2377453841, 2161113266, 2302581728, 1539103729,\n",
       "       4270582863, 1240159069, 2880505310, 2053195452, 1379436687,\n",
       "       1098098660, 2750513443, 2646916921, 2054891438, 1871480923,\n",
       "       2585195673, 3821238279, 4294521378, 1081608813, 3663270671,\n",
       "       3135746313, 2946733968, 3337685262, 3603249815, 4110571792,\n",
       "        517207754, 2501503213,  388720798,  287793371, 2998862386,\n",
       "       1713357791,  128456993, 2903767110, 3233775179, 2097741557,\n",
       "       2956729750, 1512289106, 3356719256,  258593236, 2996379912,\n",
       "       4224471716, 1114405833,  530615282, 3835083762,   93209869,\n",
       "       2436577001, 2498333994, 2051539184, 2093857927,  698855810,\n",
       "       1083693557, 1991989355, 2259743715, 1639723131,  433295372,\n",
       "       3034270950, 1446057820, 2426252148, 1702796423,  120487382,\n",
       "        473589906,  427771547, 3423654868, 1072862882, 1468993299,\n",
       "       2407409696, 3553500213,  715102097,  275594312, 3510297694,\n",
       "       1682204913, 1094595118, 1596313523, 1103618965, 2722562800,\n",
       "       3857713009, 2057355675, 4057293897, 2728779365, 3767811137,\n",
       "       3948921243, 1976887223, 1118339620, 2612011129, 2313978744,\n",
       "       2416964844, 1194113510, 1279496964, 1802344258, 1702797655,\n",
       "       4263424636, 1394110116, 1484642245, 1800398720], dtype=uint32), 481, 0, 0.0))"
      ]
     },
     "execution_count": 5,
     "metadata": {},
     "output_type": "execute_result"
    }
   ],
   "source": [
    "sampler = emcee.EnsembleSampler(nwalkers=number_of_walkers, ndim=number_of_dimensions, log_prob_fn=compute_log_prob)\n",
    "sampler.run_mcmc(initial_state=initial_states, nsteps=10000)"
   ]
  },
  {
   "cell_type": "code",
   "execution_count": 6,
   "id": "6144d507",
   "metadata": {},
   "outputs": [],
   "source": [
    "# sampler.reset()\n",
    "# sampler.run_mcmc(initial_state=initial_state, nsteps=10000)"
   ]
  },
  {
   "cell_type": "code",
   "execution_count": 7,
   "id": "39b742f7",
   "metadata": {},
   "outputs": [
    {
     "data": {
      "image/png": "[encoded data removed]",
      "text/plain": [
       "<Figure size 432x288 with 1 Axes>"
      ]
     },
     "metadata": {
      "needs_background": "light"
     },
     "output_type": "display_data"
    }
   ],
   "source": [
    "import matplotlib.pyplot as plt\n",
    "\n",
    "samples = sampler.get_chain(flat=True)\n",
    "plt.hist(samples, 100, color=\"k\", histtype=\"step\")\n",
    "plt.xlabel(\"$x$\")\n",
    "plt.ylabel(\"$p(x)$\")\n",
    "plt.gca().set_yticks([])\n",
    "plt.show()\n"
   ]
  },
  {
   "cell_type": "code",
   "execution_count": null,
   "id": "adf018b0",
   "metadata": {},
   "outputs": [],
   "source": []
  }
 ],
 "metadata": {
  "kernelspec": {
   "display_name": "Python 3",
   "language": "python",
   "name": "python3"
  },
  "language_info": {
   "codemirror_mode": {
    "name": "ipython",
    "version": 3
   },
   "file_extension": ".py",
   "mimetype": "text/x-python",
   "name": "python",
   "nbconvert_exporter": "python",
   "pygments_lexer": "ipython3",
   "version": "3.8.10"
  }
 },
 "nbformat": 4,
 "nbformat_minor": 5
}
